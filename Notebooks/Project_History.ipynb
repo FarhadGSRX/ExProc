{
 "cells": [
  {
   "cell_type": "markdown",
   "metadata": {
    "collapsed": true,
    "pycharm": {
     "name": "#%% md\n"
    }
   },
   "source": [
    "12/27/2019 - Created the Updating Social Status Board\n",
    "\n",
    "2/24/2020 - Created code that handles Google Auth, Accesses GCal, and calculates time spent on daily activities.\n",
    "[ ] Have still not placed the new ep_config.json onto the RPi (Honestly, probably just best to pass it on a flashdrive using the gui)\n",
    "\n",
    "4/26/2020 - Returning to finally implement the Day Routine Coach/Manager\n",
    "- Also planning to implement the threading module so TG and Routine Coach can exist in parallel \n",
    "\n"
   ]
  }
 ],
 "metadata": {
  "kernelspec": {
   "display_name": "Python 3",
   "language": "python",
   "name": "python3"
  },
  "language_info": {
   "codemirror_mode": {
    "name": "ipython",
    "version": 2
   },
   "file_extension": ".py",
   "mimetype": "text/x-python",
   "name": "python",
   "nbconvert_exporter": "python",
   "pygments_lexer": "ipython2",
   "version": "2.7.6"
  },
  "pycharm": {
   "stem_cell": {
    "cell_type": "raw",
    "source": [],
    "metadata": {
     "collapsed": false
    }
   }
  }
 },
 "nbformat": 4,
 "nbformat_minor": 0
}