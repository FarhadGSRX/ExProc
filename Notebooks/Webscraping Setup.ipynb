{
 "cells": [
  {
   "cell_type": "markdown",
   "source": [
    "You should know that setting up webscraping seemed trivial at first.\n",
    "And it was on the PC.\n",
    "\n",
    "But getting it all to work on the RasPi was utter hell.\n",
    "\n",
    "Raspbian of Debian of Linux ports of chromium browser and chrome-driver/chromium-driver were very complicated.\n",
    "\n",
    "In the end though, we triumphed.\n",
    "\n",
    "Here's what you need to do.\n",
    "\n",
    "After initial setup of the RPi, figure out what version of chromium you have by opening it and checking settings.\n",
    "\n",
    "If you're satisfied with the version, great, if not, it's only one extra step after you know what you're doing.\n",
    "\n",
    "# Discovering the Debian Packages website\n",
    "https://packages.debian.org/buster/chromium\n",
    "Although I had version 78 installed, uninstalling it and installing v80 over it was relatively trivial. So that's eventually what we did.\n",
    "https://packages.debian.org/buster/chromium-driver\n",
    "After doing so, I directed myself to the chromium-driver page, and downloaded the armhf version, and installed them using:\n",
    "> sudo apt-get install ./path_to_deb.deb\n",
    "> Restart for good measure\n",
    "> Confirm Chromium is now a newer version, and it was.\n",
    "\n",
    "# After installing chromium, I tested it in ipython3 to ensure it actually opened:\n",
    "> from selenium import WebDriver (or something like that)\n",
    "> driver = WebDriver.Chrome() (or something like that.) Just test it, okay?\n",
    "\n",
    "# You may find that it still doesn't work -- If you get a Error Code 127 -- You probably don't have the right binary installed or something. Lots of different versions.\n",
    "# On that slightly related note, see this website:\n",
    "> http://archive.raspberrypi.org/debian/pool/main/c/chromium-browser/\n",
    "> Incredible archive incase you need something.\n",
    "\n",
    "# Some people recommended installing various packages to get it to work. I think the above debian package websites also listed all of those dependencies, so check there for ideas?\n",
    "\n",
    "# Then, in your python scripts, because we want things to run headless, ensure to use these options:\n",
    "> headless\n",
    "> disable-gpu\n",
    "> window-size=1920x1080 (or 1024,768, who care)"
   ],
   "metadata": {
    "collapsed": false,
    "pycharm": {
     "name": "#%% md\n"
    }
   }
  }
 ],
 "metadata": {
  "kernelspec": {
   "display_name": "Python 3",
   "language": "python",
   "name": "python3"
  },
  "language_info": {
   "codemirror_mode": {
    "name": "ipython",
    "version": 2
   },
   "file_extension": ".py",
   "mimetype": "text/x-python",
   "name": "python",
   "nbconvert_exporter": "python",
   "pygments_lexer": "ipython2",
   "version": "2.7.6"
  },
  "pycharm": {
   "stem_cell": {
    "cell_type": "raw",
    "source": [],
    "metadata": {
     "collapsed": false
    }
   }
  }
 },
 "nbformat": 4,
 "nbformat_minor": 0
}